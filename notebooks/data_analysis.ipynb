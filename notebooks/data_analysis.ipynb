# data_analysis.ipynb
import pandas as pd
import seaborn as sns
import matplotlib.pyplot as plt

# Load the dataset
data = pd.read_csv("../data/customer_data.csv")

# Overview of the dataset
print(data.info())
print(data.describe())

# Visualize churn distribution
sns.countplot(data['Churn'])
plt.title("Churn Distribution")
plt.show()

# Analyze correlations between features
correlation = data.corr()
sns.heatmap(correlation, annot=True, fmt=".2f", cmap="coolwarm")
plt.title("Feature Correlation Heatmap")
plt.show()
